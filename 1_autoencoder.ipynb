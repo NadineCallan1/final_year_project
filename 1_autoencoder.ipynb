{
 "cells": [
  {
   "cell_type": "markdown",
   "id": "ad438cf7",
   "metadata": {},
   "source": [
    "<span style=\"font-family:TimesNewRoman; font-size:2.5em; font-weight: bold;\">\n",
    "    Notes\n",
    "</span>\n",
    "\n",
    "\n",
    "<br>\n",
    "\n",
    "<span style=\"font-family:TimesNewRoman; font-size:1em;\">\n",
    "Increasing both the batch size and the encoding dimension increased the clarity of the output images but the encoding dimension had a more significant increase.  \n",
    "<br>\n",
    "Increasing the hidden dimension has more of an impact on clarity than increasing the encoding dimension. But, it is slower as it is a higher number to begin with. Increasing it at all increases the number of calculations required by a more significant amount than increasing the encoding dimension. This is because the encoding dimension is a lot smaller. \n",
    "<br>\n",
    "The accuracy does not seem to improve much after 10 epochs and as it is quite slow, I left it at that.\n",
    "<br>\n",
    "Increasing or decreasing the learning rate by orders of magnitude causes the loss to increase and decreases the clarity of the reproduced images.\n",
    "<br>\n",
    "The c\n",
    "</span>\n",
    "\n"
   ]
  },
  {
   "cell_type": "markdown",
   "id": "8d3afed9",
   "metadata": {},
   "source": [
    "# Setup"
   ]
  },
  {
   "cell_type": "code",
   "execution_count": 2,
   "id": "2c86a8ab",
   "metadata": {},
   "outputs": [],
   "source": [
    "import os\n",
    "os.environ['TF_CPP_MIN_LOG_LEVEL'] = '2'  # 0 for all logs, 2 for errors only\n",
    "import tensorflow as tf\n",
    "from tensorflow import keras\n",
    "from keras import layers, models, optimizers\n",
    "\n",
    "import numpy as np\n",
    "import matplotlib.pyplot as plt\n",
    "from sklearn.decomposition import PCA"
   ]
  },
  {
   "cell_type": "markdown",
   "id": "f092afbc",
   "metadata": {},
   "source": [
    "## structure data as needed"
   ]
  },
  {
   "cell_type": "code",
   "execution_count": 115,
   "id": "fd390c51",
   "metadata": {},
   "outputs": [],
   "source": [
    "mnist = keras.datasets.mnist"
   ]
  },
  {
   "cell_type": "code",
   "execution_count": 116,
   "id": "6a0ae087",
   "metadata": {},
   "outputs": [
    {
     "data": {
      "text/plain": [
       "<module 'keras.api._v2.keras.datasets.mnist' from '/Users/nadinecallan/opt/anaconda3/lib/python3.9/site-packages/keras/api/_v2/keras/datasets/mnist/__init__.py'>"
      ]
     },
     "execution_count": 116,
     "metadata": {},
     "output_type": "execute_result"
    }
   ],
   "source": [
    "mnist"
   ]
  },
  {
   "cell_type": "code",
   "execution_count": 117,
   "id": "f14cccd9",
   "metadata": {},
   "outputs": [],
   "source": [
    "(x_train, _), (x_test, _) = mnist.load_data()"
   ]
  },
  {
   "cell_type": "code",
   "execution_count": 118,
   "id": "c7fbd02a",
   "metadata": {},
   "outputs": [
    {
     "name": "stdout",
     "output_type": "stream",
     "text": [
      "(60000, 784)\n",
      "1.0\n",
      "(10000, 784)\n",
      "1.0\n"
     ]
    }
   ],
   "source": [
    "x_train = x_train.astype('float32') / 255\n",
    "x_test = x_test.astype('float32') / 255\n",
    "x_train = x_train.reshape((len(x_train), np.prod(x_train.shape[1:])))\n",
    "x_test = x_test.reshape((len(x_test), np.prod(x_test.shape[1:])))\n",
    "print(x_train.shape)\n",
    "print(x_train.max())\n",
    "print(x_test.shape)\n",
    "print(x_test.max())"
   ]
  },
  {
   "cell_type": "markdown",
   "id": "5cef6b0e",
   "metadata": {},
   "source": [
    "# Neural Network"
   ]
  },
  {
   "cell_type": "markdown",
   "id": "11fbedcb",
   "metadata": {},
   "source": [
    "batch_size_16_encoding_dim_64"
   ]
  },
  {
   "cell_type": "code",
   "execution_count": 119,
   "id": "205046aa",
   "metadata": {},
   "outputs": [],
   "source": [
    "encoding_dim = 64\n",
    "hidden_dim = 128\n",
    "batch_size = 16\n",
    "epochs = 30\n",
    "learning_rate = 0.001\n",
    "\n",
    "factor = 0.1\n",
    "patience = 1\n",
    "min_lr = 0.00001\n",
    "verbose = 1"
   ]
  },
  {
   "cell_type": "code",
   "execution_count": 120,
   "id": "c638ef9f",
   "metadata": {},
   "outputs": [],
   "source": [
    "reduce_lr = tf.keras.callbacks.ReduceLROnPlateau(monitor='val_loss', factor=factor,\n",
    "                              patience=patience, min_lr=min_lr, verbose=verbose)"
   ]
  },
  {
   "cell_type": "markdown",
   "id": "f514ab36",
   "metadata": {},
   "source": [
    "## Autoencoder"
   ]
  },
  {
   "cell_type": "markdown",
   "id": "c77f51e8",
   "metadata": {},
   "source": [
    "### Input"
   ]
  },
  {
   "cell_type": "code",
   "execution_count": 121,
   "id": "dcc502a6",
   "metadata": {},
   "outputs": [],
   "source": [
    "# input layer has 784 neurons (fixed values according to input)\n",
    "input_img = keras.Input(shape=(784,))"
   ]
  },
  {
   "cell_type": "markdown",
   "id": "61ca843d",
   "metadata": {},
   "source": [
    "### Encoder"
   ]
  },
  {
   "cell_type": "code",
   "execution_count": 122,
   "id": "cbea98a1",
   "metadata": {},
   "outputs": [],
   "source": [
    "encoded = layers.Dense(hidden_dim, activation='relu')(input_img)\n",
    "encoded1 = layers.Dense(hidden_dim, activation='relu')(encoded)\n",
    "encoded2 = layers.Dense(hidden_dim, activation='relu')(encoded1)"
   ]
  },
  {
   "cell_type": "markdown",
   "id": "6ee43fed",
   "metadata": {},
   "source": [
    "### Bottleneck"
   ]
  },
  {
   "cell_type": "code",
   "execution_count": 123,
   "id": "aec88fc9",
   "metadata": {},
   "outputs": [],
   "source": [
    "# bottleneck layer has 32 neurons (encoding dim)\n",
    "bottleneck = layers.Dense(encoding_dim, activation='relu')(encoded2)"
   ]
  },
  {
   "cell_type": "markdown",
   "id": "f575f82b",
   "metadata": {},
   "source": [
    "### Decoder"
   ]
  },
  {
   "cell_type": "code",
   "execution_count": 124,
   "id": "f4875af4",
   "metadata": {},
   "outputs": [],
   "source": [
    "decoded = layers.Dense(hidden_dim, activation='relu')(bottleneck)\n",
    "decoded1 = layers.Dense(hidden_dim, activation='relu')(decoded)\n",
    "decoded2 = layers.Dense(hidden_dim, activation='relu')(decoded1)"
   ]
  },
  {
   "cell_type": "markdown",
   "id": "f5c51a99",
   "metadata": {},
   "source": [
    "### Output"
   ]
  },
  {
   "cell_type": "code",
   "execution_count": 125,
   "id": "709afe62",
   "metadata": {},
   "outputs": [],
   "source": [
    "# output layer has 784 neurons (should be set to be same as input as trying to recreate it)\n",
    "output_img = layers.Dense(784, activation='sigmoid')(decoded2)"
   ]
  },
  {
   "cell_type": "code",
   "execution_count": 126,
   "id": "238c559b",
   "metadata": {},
   "outputs": [],
   "source": [
    "autoencoder = keras.Model(input_img, output_img)"
   ]
  },
  {
   "cell_type": "code",
   "execution_count": 127,
   "id": "53ab35bd",
   "metadata": {},
   "outputs": [],
   "source": [
    "encoder = keras.Model(input_img, bottleneck)"
   ]
  },
  {
   "cell_type": "code",
   "execution_count": 128,
   "id": "9226af45",
   "metadata": {},
   "outputs": [],
   "source": [
    "encoded_input = keras.Input(shape=(encoding_dim,))"
   ]
  },
  {
   "cell_type": "code",
   "execution_count": 129,
   "id": "2573c034",
   "metadata": {},
   "outputs": [],
   "source": [
    "decoder_input = keras.Input(shape=(encoding_dim,))\n",
    "decoder = autoencoder.layers[-4](decoder_input)\n",
    "decoder = autoencoder.layers[-3](decoder)\n",
    "decoder = autoencoder.layers[-2](decoder)\n",
    "decoder = autoencoder.layers[-1](decoder)"
   ]
  },
  {
   "cell_type": "code",
   "execution_count": 130,
   "id": "db76d9d8",
   "metadata": {},
   "outputs": [],
   "source": [
    "decoder_model = keras.Model(decoder_input, decoder)"
   ]
  },
  {
   "cell_type": "code",
   "execution_count": 131,
   "id": "2f5cad2a",
   "metadata": {},
   "outputs": [],
   "source": [
    "autoencoder.compile(optimizer=tf.keras.optimizers.Adam(learning_rate=learning_rate),\n",
    "                    loss='binary_crossentropy')"
   ]
  },
  {
   "cell_type": "markdown",
   "id": "5af2b10f",
   "metadata": {},
   "source": [
    "## training the model"
   ]
  },
  {
   "cell_type": "code",
   "execution_count": 132,
   "id": "c49ebff4",
   "metadata": {
    "scrolled": true
   },
   "outputs": [
    {
     "name": "stdout",
     "output_type": "stream",
     "text": [
      "Epoch 1/30\n",
      "3750/3750 [==============================] - 10s 2ms/step - loss: 0.1446 - val_loss: 0.1150 - lr: 0.0010\n",
      "Epoch 2/30\n",
      "3750/3750 [==============================] - 9s 2ms/step - loss: 0.1090 - val_loss: 0.1026 - lr: 0.0010\n",
      "Epoch 3/30\n",
      "3750/3750 [==============================] - 9s 2ms/step - loss: 0.1013 - val_loss: 0.0973 - lr: 0.0010\n",
      "Epoch 4/30\n",
      "3750/3750 [==============================] - 9s 2ms/step - loss: 0.0970 - val_loss: 0.0941 - lr: 0.0010\n",
      "Epoch 5/30\n",
      "3750/3750 [==============================] - 9s 2ms/step - loss: 0.0943 - val_loss: 0.0926 - lr: 0.0010\n",
      "Epoch 6/30\n",
      "3750/3750 [==============================] - 9s 2ms/step - loss: 0.0922 - val_loss: 0.0911 - lr: 0.0010\n",
      "Epoch 7/30\n",
      "3750/3750 [==============================] - 9s 2ms/step - loss: 0.0905 - val_loss: 0.0894 - lr: 0.0010\n",
      "Epoch 8/30\n",
      "3750/3750 [==============================] - 9s 2ms/step - loss: 0.0891 - val_loss: 0.0872 - lr: 0.0010\n",
      "Epoch 9/30\n",
      "3750/3750 [==============================] - 9s 2ms/step - loss: 0.0878 - val_loss: 0.0860 - lr: 0.0010\n",
      "Epoch 10/30\n",
      "3750/3750 [==============================] - 9s 3ms/step - loss: 0.0866 - val_loss: 0.0846 - lr: 0.0010\n",
      "Epoch 11/30\n",
      "3750/3750 [==============================] - 9s 2ms/step - loss: 0.0855 - val_loss: 0.0832 - lr: 0.0010\n",
      "Epoch 12/30\n",
      "3750/3750 [==============================] - 9s 2ms/step - loss: 0.0846 - val_loss: 0.0827 - lr: 0.0010\n",
      "Epoch 13/30\n",
      "3750/3750 [==============================] - 9s 2ms/step - loss: 0.0837 - val_loss: 0.0826 - lr: 0.0010\n",
      "Epoch 14/30\n",
      "3750/3750 [==============================] - 9s 2ms/step - loss: 0.0830 - val_loss: 0.0819 - lr: 0.0010\n",
      "Epoch 15/30\n",
      "3732/3750 [============================>.] - ETA: 0s - loss: 0.0824\n",
      "Epoch 15: ReduceLROnPlateau reducing learning rate to 0.00010000000474974513.\n",
      "3750/3750 [==============================] - 9s 2ms/step - loss: 0.0824 - val_loss: 0.0827 - lr: 0.0010\n",
      "Epoch 16/30\n",
      "3750/3750 [==============================] - 9s 2ms/step - loss: 0.0773 - val_loss: 0.0768 - lr: 1.0000e-04\n",
      "Epoch 17/30\n",
      "3750/3750 [==============================] - 9s 2ms/step - loss: 0.0769 - val_loss: 0.0766 - lr: 1.0000e-04\n",
      "Epoch 18/30\n",
      "3750/3750 [==============================] - 9s 2ms/step - loss: 0.0767 - val_loss: 0.0764 - lr: 1.0000e-04\n",
      "Epoch 19/30\n",
      "3750/3750 [==============================] - 10s 3ms/step - loss: 0.0765 - val_loss: 0.0762 - lr: 1.0000e-04\n",
      "Epoch 20/30\n",
      "3747/3750 [============================>.] - ETA: 0s - loss: 0.0764\n",
      "Epoch 20: ReduceLROnPlateau reducing learning rate to 1.0000000474974514e-05.\n",
      "3750/3750 [==============================] - 9s 2ms/step - loss: 0.0764 - val_loss: 0.0762 - lr: 1.0000e-04\n",
      "Epoch 21/30\n",
      "3750/3750 [==============================] - 9s 2ms/step - loss: 0.0759 - val_loss: 0.0758 - lr: 1.0000e-05\n",
      "Epoch 22/30\n",
      "3744/3750 [============================>.] - ETA: 0s - loss: 0.0758\n",
      "Epoch 22: ReduceLROnPlateau reducing learning rate to 1e-05.\n",
      "3750/3750 [==============================] - 9s 2ms/step - loss: 0.0758 - val_loss: 0.0758 - lr: 1.0000e-05\n",
      "Epoch 23/30\n",
      "3750/3750 [==============================] - 9s 2ms/step - loss: 0.0758 - val_loss: 0.0758 - lr: 1.0000e-05\n",
      "Epoch 24/30\n",
      "3750/3750 [==============================] - 9s 2ms/step - loss: 0.0758 - val_loss: 0.0757 - lr: 1.0000e-05\n",
      "Epoch 25/30\n",
      "3750/3750 [==============================] - 9s 2ms/step - loss: 0.0758 - val_loss: 0.0757 - lr: 1.0000e-05\n",
      "Epoch 26/30\n",
      "3750/3750 [==============================] - 9s 2ms/step - loss: 0.0757 - val_loss: 0.0757 - lr: 1.0000e-05\n",
      "Epoch 27/30\n",
      "3750/3750 [==============================] - 9s 2ms/step - loss: 0.0757 - val_loss: 0.0757 - lr: 1.0000e-05\n",
      "Epoch 28/30\n",
      "3750/3750 [==============================] - 9s 2ms/step - loss: 0.0757 - val_loss: 0.0757 - lr: 1.0000e-05\n",
      "Epoch 29/30\n",
      "3750/3750 [==============================] - 9s 2ms/step - loss: 0.0757 - val_loss: 0.0757 - lr: 1.0000e-05\n",
      "Epoch 30/30\n",
      "3750/3750 [==============================] - 9s 2ms/step - loss: 0.0757 - val_loss: 0.0757 - lr: 1.0000e-05\n"
     ]
    }
   ],
   "source": [
    "fitting_output = autoencoder.fit(x_train, x_train, \n",
    "                                 epochs=epochs,\n",
    "                                 batch_size=batch_size,\n",
    "                                 shuffle=True,\n",
    "                                 validation_data=(x_test, x_test),\n",
    "                                 callbacks=[reduce_lr])"
   ]
  },
  {
   "cell_type": "code",
   "execution_count": 133,
   "id": "69d7ab9b",
   "metadata": {},
   "outputs": [],
   "source": [
    "training_history = fitting_output.history"
   ]
  },
  {
   "cell_type": "code",
   "execution_count": 134,
   "id": "90f3fa5a",
   "metadata": {},
   "outputs": [
    {
     "data": {
      "image/png": "[encoded data removed]",
      "text/plain": [
       "<Figure size 640x480 with 1 Axes>"
      ]
     },
     "metadata": {},
     "output_type": "display_data"
    }
   ],
   "source": [
    "# plotting the decrease in loss as the network learns\n",
    "fig_loss = plt.figure()\n",
    "ax = fig_loss.add_subplot(111)\n",
    "ax.plot(fitting_output.history['loss'], label='Training')\n",
    "ax.plot(fitting_output.history['val_loss'], label='Validation')\n",
    "ax.set_title('Decrease in Loss')\n",
    "ax.set_ylabel('Loss', fontsize=20)\n",
    "ax.set_xlabel('Epoch', fontsize=20)\n",
    "ax.legend(loc='upper right', fontsize=14)\n",
    "ax.tick_params(axis='both', which='both', labelsize=12)\n",
    "ax.set_xticks(np.arange(0, epochs, 1))\n",
    "ax.set_ylim(0, 0.3)\n",
    "plt.show()"
   ]
  },
  {
   "cell_type": "markdown",
   "id": "5b8c5205",
   "metadata": {},
   "source": [
    "## testing the model"
   ]
  },
  {
   "cell_type": "code",
   "execution_count": 135,
   "id": "8efa7fc3",
   "metadata": {},
   "outputs": [
    {
     "data": {
      "text/plain": [
       "array([[0., 0., 0., ..., 0., 0., 0.],\n",
       "       [0., 0., 0., ..., 0., 0., 0.],\n",
       "       [0., 0., 0., ..., 0., 0., 0.],\n",
       "       ...,\n",
       "       [0., 0., 0., ..., 0., 0., 0.],\n",
       "       [0., 0., 0., ..., 0., 0., 0.],\n",
       "       [0., 0., 0., ..., 0., 0., 0.]], dtype=float32)"
      ]
     },
     "execution_count": 135,
     "metadata": {},
     "output_type": "execute_result"
    }
   ],
   "source": [
    "x_test"
   ]
  },
  {
   "cell_type": "code",
   "execution_count": 136,
   "id": "a71c8365",
   "metadata": {},
   "outputs": [
    {
     "data": {
      "text/plain": [
       "(10000, 784)"
      ]
     },
     "execution_count": 136,
     "metadata": {},
     "output_type": "execute_result"
    }
   ],
   "source": [
    "x_test.shape"
   ]
  },
  {
   "cell_type": "code",
   "execution_count": 137,
   "id": "e2d43678",
   "metadata": {
    "scrolled": false
   },
   "outputs": [
    {
     "name": "stdout",
     "output_type": "stream",
     "text": [
      "313/313 [==============================] - 0s 997us/step\n"
     ]
    }
   ],
   "source": [
    "encoded_imgs = encoder.predict(x_test)"
   ]
  },
  {
   "cell_type": "code",
   "execution_count": 138,
   "id": "fcb5cef6",
   "metadata": {
    "scrolled": false
   },
   "outputs": [
    {
     "data": {
      "text/plain": [
       "array([ 0.       ,  5.77417  ,  9.344878 ,  4.422649 , 11.097612 ,\n",
       "        0.       ,  3.051536 ,  3.2090068, 10.011474 ,  4.379154 ,\n",
       "        7.780194 ,  0.       ,  0.       ,  2.747033 ,  7.7212133,\n",
       "        0.       ,  5.538074 ,  4.3654003,  0.       ,  0.       ,\n",
       "        2.5892518,  1.13634  ,  3.5670624,  0.       ,  8.3322735,\n",
       "        7.829987 ,  5.4422865,  2.4331355,  0.       ,  1.8063627,\n",
       "        1.5427134,  6.4073496,  1.1892543,  0.       ,  6.004898 ,\n",
       "        5.354197 ,  5.225171 ,  0.       ,  3.3385236,  4.432184 ,\n",
       "        4.961765 ,  8.771732 ,  4.928161 ,  8.34446  ,  0.       ,\n",
       "        0.       ,  3.3871918,  9.808772 ,  8.140373 ,  0.       ,\n",
       "        0.       ,  4.376315 ,  3.627135 ,  5.528159 ,  3.5369556,\n",
       "        0.       ,  0.       ,  1.0844516,  6.457632 ,  0.       ,\n",
       "        0.       ,  1.7174778,  6.4743047,  4.486549 ], dtype=float32)"
      ]
     },
     "execution_count": 138,
     "metadata": {},
     "output_type": "execute_result"
    }
   ],
   "source": [
    "encoded_imgs[1]"
   ]
  },
  {
   "cell_type": "code",
   "execution_count": 139,
   "id": "d1b8e4a5",
   "metadata": {},
   "outputs": [
    {
     "name": "stdout",
     "output_type": "stream",
     "text": [
      "313/313 [==============================] - 0s 1ms/step\n"
     ]
    }
   ],
   "source": [
    "decoded_imgs = decoder_model.predict(encoded_imgs)\n",
    "decoded_imgs = decoded_imgs.reshape(-1, 28, 28)"
   ]
  },
  {
   "cell_type": "code",
   "execution_count": 140,
   "id": "98bacb59",
   "metadata": {},
   "outputs": [],
   "source": [
    "num_images, width, height = decoded_imgs.shape"
   ]
  },
  {
   "cell_type": "code",
   "execution_count": 141,
   "id": "a748d227",
   "metadata": {},
   "outputs": [
    {
     "data": {
      "image/png": "[encoded data removed]",
      "text/plain": [
       "<Figure size 1000x500 with 1 Axes>"
      ]
     },
     "metadata": {},
     "output_type": "display_data"
    }
   ],
   "source": [
    "fig = plt.figure(figsize=(10, 5))\n",
    "\n",
    "plt.imshow(decoded_imgs[4576], cmap='gray')\n",
    "plt.axis('off')\n",
    "\n",
    "#plt.tight_layout()\n",
    "plt.show()"
   ]
  },
  {
   "cell_type": "code",
   "execution_count": 142,
   "id": "62f9e7d8",
   "metadata": {},
   "outputs": [
    {
     "data": {
      "image/png": "[encoded data removed]",
      "text/plain": [
       "<Figure size 1000x500 with 10 Axes>"
      ]
     },
     "metadata": {},
     "output_type": "display_data"
    }
   ],
   "source": [
    "fig = plt.figure(figsize=(10, 5))\n",
    "\n",
    "for i in range(10):\n",
    "    plt.subplot(1, 10, i + 1)\n",
    "    plt.imshow(decoded_imgs[i], cmap='gray')\n",
    "    plt.axis('off')\n",
    "\n",
    "plt.tight_layout()\n",
    "plt.show()"
   ]
  },
  {
   "cell_type": "code",
   "execution_count": 143,
   "id": "a91bb16c",
   "metadata": {},
   "outputs": [
    {
     "name": "stdout",
     "output_type": "stream",
     "text": [
      "Image Title: a\n"
     ]
    }
   ],
   "source": [
    "user_input = input(\"Image Title: \")"
   ]
  },
  {
   "cell_type": "code",
   "execution_count": 144,
   "id": "275d144a",
   "metadata": {},
   "outputs": [
    {
     "name": "stdout",
     "output_type": "stream",
     "text": [
      "a\n"
     ]
    }
   ],
   "source": [
    "name = f'{user_input}'\n",
    "\n",
    "plots_folder_name = 'created_images'\n",
    "plots_file_name = f'{name}.png'\n",
    "plots_folder_path = f'output_data/{plots_folder_name}'\n",
    "os.makedirs(plots_folder_path, exist_ok=True)\n",
    "plots_file_path = os.path.join(plots_folder_path, plots_file_name)\n",
    "#fig.savefig(plots_file_path)\n",
    "plt.show\n",
    "\n",
    "print(name)"
   ]
  },
  {
   "cell_type": "code",
   "execution_count": 145,
   "id": "9c355cef",
   "metadata": {},
   "outputs": [
    {
     "data": {
      "image/png": "[encoded data removed]",
      "text/plain": [
       "<Figure size 2000x400 with 20 Axes>"
      ]
     },
     "metadata": {},
     "output_type": "display_data"
    }
   ],
   "source": [
    "n = 10 \n",
    "fig = plt.figure(figsize=(20, 4))\n",
    "for i in range(n):\n",
    "    ax = plt.subplot(2, n, i + 1)\n",
    "    plt.imshow(x_test[i].reshape(28,28))\n",
    "    plt.gray()\n",
    "    ax.get_xaxis().set_visible(False)\n",
    "    ax.get_yaxis().set_visible(False)\n",
    "    \n",
    "    ax = plt.subplot(2, n, i + 1 + n)\n",
    "    plt.imshow(decoded_imgs[i].reshape(28, 28))\n",
    "    plt.gray()\n",
    "    ax.get_xaxis().set_visible(False)\n",
    "    ax.get_yaxis().set_visible(False)\n",
    "plt.show()"
   ]
  },
  {
   "cell_type": "code",
   "execution_count": 148,
   "id": "0fbee574",
   "metadata": {},
   "outputs": [
    {
     "data": {
      "image/png": "[encoded data removed]",
      "text/plain": [
       "<Figure size 400x2000 with 20 Axes>"
      ]
     },
     "metadata": {},
     "output_type": "display_data"
    }
   ],
   "source": [
    "n = 10\n",
    "\n",
    "fig = plt.figure(figsize=(4, 20))\n",
    "for i in range(n):\n",
    "    ax = plt.subplot(n, 2, i * 2 + 1)\n",
    "    plt.imshow(x_test[i].reshape(28,28))\n",
    "    plt.gray()\n",
    "    ax.get_xaxis().set_visible(False)\n",
    "    ax.get_yaxis().set_visible(False)\n",
    "    \n",
    "    ax = plt.subplot(n, 2, i * 2 + 2)\n",
    "    plt.imshow(decoded_imgs[i].reshape(28,28))\n",
    "    plt.gray()\n",
    "    ax.get_xaxis().set_visible(False)\n",
    "    ax.get_yaxis().set_visible(False)\n",
    "plt.savefig('autoencoder_input_output')\n",
    "plt.show()"
   ]
  },
  {
   "cell_type": "code",
   "execution_count": null,
   "id": "0e0ef985",
   "metadata": {},
   "outputs": [],
   "source": [
    "# run = f'batch_size_{batch_size}_encoding_dim_{encoding_dim}_hidden_dim_{hidden_dim}_epochs_{epochs}_lr_{learning_rate}_layers_7'\n",
    "\n",
    "# plots_folder_name = 'plots_of_output_data'\n",
    "# plots_file_name = f'{run}.png'\n",
    "# plots_folder_path = f'output_data/{plots_folder_name}'\n",
    "# os.makedirs(plots_folder_path, exist_ok=True)\n",
    "# plots_file_path = os.path.join(plots_folder_path, plots_file_name)\n",
    "# fig.savefig(plots_file_path)\n",
    "# plt.show\n",
    "\n",
    "# print(run)"
   ]
  }
 ],
 "metadata": {
  "kernelspec": {
   "display_name": "Python 3 (ipykernel)",
   "language": "python",
   "name": "python3"
  },
  "language_info": {
   "codemirror_mode": {
    "name": "ipython",
    "version": 3
   },
   "file_extension": ".py",
   "mimetype": "text/x-python",
   "name": "python",
   "nbconvert_exporter": "python",
   "pygments_lexer": "ipython3",
   "version": "3.9.7"
  }
 },
 "nbformat": 4,
 "nbformat_minor": 5
}
