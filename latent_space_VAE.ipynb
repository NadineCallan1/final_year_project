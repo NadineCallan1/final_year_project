{
 "cells": [
  {
   "cell_type": "markdown",
   "id": "ffb70f4c",
   "metadata": {},
   "source": [
    "# Setup"
   ]
  },
  {
   "cell_type": "code",
   "execution_count": 1,
   "id": "3b13ddd2",
   "metadata": {},
   "outputs": [],
   "source": [
    "import os\n",
    "os.environ['TF_CPP_MIN_LOG_LEVEL'] = '2'  # 0 for all logs, 2 for errors only\n",
    "\n",
    "import tensorflow as tf\n",
    "from tensorflow import keras\n",
    "from keras import layers, models, optimizers\n",
    "from tensorflow.keras import backend as K\n",
    "\n",
    "import numpy as np\n",
    "import matplotlib.pyplot as plt\n",
    "from sklearn.decomposition import PCA\n",
    "\n",
    "from scipy.spatial import ConvexHull\n",
    "\n",
    "from mpl_toolkits.mplot3d import Axes3D"
   ]
  },
  {
   "cell_type": "markdown",
   "id": "43f2bb3e",
   "metadata": {},
   "source": [
    "## Get data"
   ]
  },
  {
   "cell_type": "code",
   "execution_count": 2,
   "id": "76ca7f69",
   "metadata": {},
   "outputs": [],
   "source": [
    "mnist = keras.datasets.mnist"
   ]
  },
  {
   "cell_type": "markdown",
   "id": "6cfde828",
   "metadata": {},
   "source": [
    "# Autoencoder"
   ]
  },
  {
   "cell_type": "markdown",
   "id": "c047ce3d",
   "metadata": {},
   "source": [
    "### training data"
   ]
  },
  {
   "cell_type": "code",
   "execution_count": 3,
   "id": "b6e467ee",
   "metadata": {},
   "outputs": [],
   "source": [
    "(x_train, _), (x_test, _) = mnist.load_data()"
   ]
  },
  {
   "cell_type": "code",
   "execution_count": 4,
   "id": "0625c74f",
   "metadata": {},
   "outputs": [
    {
     "name": "stdout",
     "output_type": "stream",
     "text": [
      "(60000, 28, 28, 1)\n",
      "1.0\n",
      "(10000, 28, 28, 1)\n",
      "1.0\n"
     ]
    }
   ],
   "source": [
    "x_train = x_train.astype('float32') / 255.0\n",
    "x_test = x_test.astype('float32') / 255.0\n",
    "x_train = x_train.reshape((len(x_train), 28, 28, 1))\n",
    "x_test = x_test.reshape((len(x_test), 28, 28, 1))\n",
    "\n",
    "print(x_train.shape)\n",
    "print(x_train.max())\n",
    "print(x_test.shape)\n",
    "print(x_test.max())"
   ]
  },
  {
   "cell_type": "markdown",
   "id": "a2de7ddc",
   "metadata": {},
   "source": [
    "### parameters"
   ]
  },
  {
   "cell_type": "code",
   "execution_count": 5,
   "id": "65fd63d3",
   "metadata": {},
   "outputs": [],
   "source": [
    "latent_dim = 2\n",
    "hidden_dim = 64\n",
    "batch_size = 128\n",
    "epochs = 10\n",
    "learning_rate = 0.004\n",
    "\n",
    "factor = 0.1\n",
    "patience = 1\n",
    "min_lr = 0.00001\n",
    "verbose = 1"
   ]
  },
  {
   "cell_type": "code",
   "execution_count": 6,
   "id": "02d30b44",
   "metadata": {},
   "outputs": [],
   "source": [
    "reduce_lr = tf.keras.callbacks.ReduceLROnPlateau(monitor='val_loss', factor=factor,\n",
    "                              patience=patience, min_lr=min_lr, verbose=verbose)"
   ]
  },
  {
   "cell_type": "code",
   "execution_count": 7,
   "id": "f4ac3a4a",
   "metadata": {},
   "outputs": [],
   "source": [
    "# encoder\n",
    "encoder_inputs = keras.Input(shape=(28, 28, 1))\n",
    "x = layers.Conv2D(hidden_dim/2, 3, activation='relu', strides=2, padding='same')(encoder_inputs)\n",
    "x = layers.Conv2D(hidden_dim, 3, activation='relu', strides=2, padding='same')(x)\n",
    "x = layers.Flatten()(x)\n",
    "z_mean = layers.Dense(latent_dim, name='z_mean')(x)\n",
    "z_log_var = layers.Dense(latent_dim, name='z_log_var')(x)\n",
    "\n",
    "# sampling function\n",
    "def sampling(args):\n",
    "    z_mean, z_log_var = args\n",
    "    batch = K.shape(z_mean)[0]\n",
    "    dim = K.int_shape(z_mean)[1]\n",
    "    epsilon = K.random_normal(shape=(batch, dim))\n",
    "    return z_mean + K.exp(0.5 * z_log_var) * epsilon\n",
    "\n",
    "# reparameterization\n",
    "z = layers.Lambda(sampling, output_shape=(latent_dim,), name='z')([z_mean, z_log_var])\n",
    "\n",
    "# decoder\n",
    "decoder_inputs = layers.Input(shape=(latent_dim,))\n",
    "x = layers.Dense(7 * 7 * hidden_dim, activation='relu')(decoder_inputs)\n",
    "x = layers.Reshape((7, 7, hidden_dim))(x)\n",
    "x = layers.Conv2DTranspose(hidden_dim, 3, activation='relu', strides=2, padding='same')(x)\n",
    "x = layers.Conv2DTranspose(hidden_dim/2, 3, activation='relu', strides=2, padding='same')(x)\n",
    "decoder_outputs = layers.Conv2DTranspose(1, 3, activation='sigmoid', padding='same')(x)\n",
    "\n",
    "# vae model\n",
    "encoder = keras.Model(encoder_inputs, [z_mean, z_log_var, z], name='encoder')\n",
    "decoder = keras.Model(decoder_inputs, decoder_outputs, name='decoder')\n",
    "\n",
    "vae_outputs = decoder(encoder(encoder_inputs)[2])\n",
    "vae = keras.Model(encoder_inputs, vae_outputs, name='vae')\n",
    "\n",
    "# loss function\n",
    "xent_loss = keras.losses.binary_crossentropy(encoder_inputs, vae_outputs)\n",
    "xent_loss = K.sum(xent_loss, axis=[1, 2])  # Sum over spatial dimensions\n",
    "kl_loss = -0.5 * K.sum(1 + z_log_var - K.square(z_mean) - K.exp(z_log_var), axis=-1)\n",
    "vae_loss = K.mean(xent_loss + kl_loss)\n",
    "\n",
    "# compile\n",
    "vae.add_loss(vae_loss)\n",
    "vae.compile(optimizer=tf.keras.optimizers.Adam(learning_rate=learning_rate),\n",
    "                    loss='binary_crossentropy')"
   ]
  },
  {
   "cell_type": "code",
   "execution_count": 8,
   "id": "de3cf9c8",
   "metadata": {
    "scrolled": false
   },
   "outputs": [
    {
     "name": "stdout",
     "output_type": "stream",
     "text": [
      "Epoch 1/10\n",
      "469/469 [==============================] - 43s 88ms/step - loss: 185.9396 - val_loss: 164.8444 - lr: 0.0040\n",
      "Epoch 2/10\n",
      "469/469 [==============================] - 44s 94ms/step - loss: 162.1159 - val_loss: 160.8637 - lr: 0.0040\n",
      "Epoch 3/10\n",
      "469/469 [==============================] - 44s 94ms/step - loss: 159.4215 - val_loss: 158.9304 - lr: 0.0040\n",
      "Epoch 4/10\n",
      "469/469 [==============================] - 45s 96ms/step - loss: 158.0854 - val_loss: 157.1913 - lr: 0.0040\n",
      "Epoch 5/10\n",
      "469/469 [==============================] - 43s 92ms/step - loss: 157.2397 - val_loss: 156.3884 - lr: 0.0040\n",
      "Epoch 6/10\n",
      "469/469 [==============================] - ETA: 0s - loss: 156.5798\n",
      "Epoch 6: ReduceLROnPlateau reducing learning rate to 0.0004000000189989805.\n",
      "469/469 [==============================] - 46s 98ms/step - loss: 156.5798 - val_loss: 156.6550 - lr: 0.0040\n",
      "Epoch 7/10\n",
      "469/469 [==============================] - 52s 111ms/step - loss: 154.2853 - val_loss: 154.3840 - lr: 4.0000e-04\n",
      "Epoch 8/10\n",
      "469/469 [==============================] - 59s 125ms/step - loss: 153.7713 - val_loss: 154.1410 - lr: 4.0000e-04\n",
      "Epoch 9/10\n",
      "469/469 [==============================] - 57s 121ms/step - loss: 153.5878 - val_loss: 153.9390 - lr: 4.0000e-04\n",
      "Epoch 10/10\n",
      "469/469 [==============================] - 53s 112ms/step - loss: 153.4591 - val_loss: 153.6951 - lr: 4.0000e-04\n"
     ]
    }
   ],
   "source": [
    "fitting_output = vae.fit(x_train, x_train, \n",
    "                         epochs=epochs, \n",
    "                         batch_size=batch_size, \n",
    "                         validation_data=(x_test, x_test), \n",
    "                         callbacks=[reduce_lr])"
   ]
  },
  {
   "cell_type": "code",
   "execution_count": 9,
   "id": "52f1c119",
   "metadata": {},
   "outputs": [],
   "source": [
    "training_history = fitting_output.history"
   ]
  },
  {
   "cell_type": "code",
   "execution_count": 10,
   "id": "0cfeaa14",
   "metadata": {},
   "outputs": [
    {
     "data": {
      "image/png": "[encoded data removed]",
      "text/plain": [
       "<Figure size 640x480 with 1 Axes>"
      ]
     },
     "metadata": {},
     "output_type": "display_data"
    }
   ],
   "source": [
    "# plotting the decrease in loss as the network learns\n",
    "fig_loss = plt.figure()\n",
    "ax = fig_loss.add_subplot(111)\n",
    "ax.plot(fitting_output.history['loss'], label='Training')\n",
    "ax.plot(fitting_output.history['val_loss'], label='Validation')\n",
    "ax.set_title('Decrease in Loss')\n",
    "ax.set_ylabel('Loss', fontsize=20)\n",
    "ax.set_xlabel('Epoch', fontsize=20)\n",
    "ax.legend(loc='upper right', fontsize=14)\n",
    "ax.tick_params(axis='both', which='both', labelsize=12)\n",
    "ax.set_xticks(np.arange(0, epochs, 1))\n",
    "#ax.set_ylim(0, 0.3)\n",
    "plt.show()"
   ]
  },
  {
   "cell_type": "markdown",
   "id": "725170b8",
   "metadata": {},
   "source": [
    "# Plotting the latent space"
   ]
  },
  {
   "cell_type": "code",
   "execution_count": 11,
   "id": "a7c98044",
   "metadata": {},
   "outputs": [
    {
     "name": "stdout",
     "output_type": "stream",
     "text": [
      "186/186 [==============================] - 1s 3ms/step\n",
      "211/211 [==============================] - 1s 4ms/step\n",
      "187/187 [==============================] - 1s 3ms/step\n",
      "192/192 [==============================] - 1s 3ms/step\n",
      "183/183 [==============================] - 1s 3ms/step\n",
      "170/170 [==============================] - 1s 3ms/step\n",
      "185/185 [==============================] - 1s 3ms/step\n",
      "196/196 [==============================] - 1s 3ms/step\n",
      "183/183 [==============================] - 0s 2ms/step\n",
      "186/186 [==============================] - 0s 2ms/step\n"
     ]
    }
   ],
   "source": [
    "x_data = []\n",
    "y_data = []\n",
    "\n",
    "for number in range(10):\n",
    "    images = np.load(f'./split_by_number/{number}_images.npy')\n",
    "    images_reshaped = images.reshape(-1, 28, 28, 1)\n",
    "\n",
    "    encoded_imgs = encoder.predict(images_reshaped)\n",
    "    encoded_imgs = np.array(encoded_imgs)\n",
    "\n",
    "    x_data.append(encoded_imgs[:, 0])\n",
    "    y_data.append(encoded_imgs[:, 1])\n"
   ]
  },
  {
   "cell_type": "markdown",
   "id": "b0bd5161",
   "metadata": {},
   "source": [
    "## Plot of all images"
   ]
  },
  {
   "cell_type": "code",
   "execution_count": 15,
   "id": "9c206b0d",
   "metadata": {},
   "outputs": [
    {
     "name": "stdout",
     "output_type": "stream",
     "text": [
      "313/313 [==============================] - 1s 2ms/step\n"
     ]
    }
   ],
   "source": [
    "# encoder = Model(inputs, z_mean)  # Assuming `z_mean` is the output of your encoder\n",
    "z_means = encoder.predict(x_test)"
   ]
  },
  {
   "cell_type": "code",
   "execution_count": 16,
   "id": "26c6d474",
   "metadata": {},
   "outputs": [
    {
     "ename": "TypeError",
     "evalue": "list indices must be integers or slices, not tuple",
     "output_type": "error",
     "traceback": [
      "\u001b[0;31m---------------------------------------------------------------------------\u001b[0m",
      "\u001b[0;31mTypeError\u001b[0m                                 Traceback (most recent call last)",
      "Input \u001b[0;32mIn [16]\u001b[0m, in \u001b[0;36m<cell line: 2>\u001b[0;34m()\u001b[0m\n\u001b[1;32m      1\u001b[0m plt\u001b[38;5;241m.\u001b[39mfigure(figsize\u001b[38;5;241m=\u001b[39m(\u001b[38;5;241m8\u001b[39m, \u001b[38;5;241m6\u001b[39m))\n\u001b[0;32m----> 2\u001b[0m scatter \u001b[38;5;241m=\u001b[39m plt\u001b[38;5;241m.\u001b[39mscatter(\u001b[43mz_means\u001b[49m\u001b[43m[\u001b[49m\u001b[43m:\u001b[49m\u001b[43m,\u001b[49m\u001b[43m \u001b[49m\u001b[38;5;241;43m0\u001b[39;49m\u001b[43m]\u001b[49m, z_means[:, \u001b[38;5;241m1\u001b[39m], c\u001b[38;5;241m=\u001b[39my_test, cmap\u001b[38;5;241m=\u001b[39m\u001b[38;5;124m'\u001b[39m\u001b[38;5;124mviridis\u001b[39m\u001b[38;5;124m'\u001b[39m)\n\u001b[1;32m      3\u001b[0m plt\u001b[38;5;241m.\u001b[39mcolorbar(scatter)\n\u001b[1;32m      4\u001b[0m plt\u001b[38;5;241m.\u001b[39mxlabel(\u001b[38;5;124m'\u001b[39m\u001b[38;5;124mPCA 1\u001b[39m\u001b[38;5;124m'\u001b[39m)\n",
      "\u001b[0;31mTypeError\u001b[0m: list indices must be integers or slices, not tuple"
     ]
    },
    {
     "data": {
      "text/plain": [
       "<Figure size 800x600 with 0 Axes>"
      ]
     },
     "metadata": {},
     "output_type": "display_data"
    }
   ],
   "source": [
    "plt.figure(figsize=(8, 6))\n",
    "scatter = plt.scatter(z_means[:, 0], z_means[:, 1], c=y_test, cmap='viridis')\n",
    "plt.colorbar(scatter)\n",
    "plt.xlabel('PCA 1')\n",
    "plt.ylabel('PCA 2')\n",
    "plt.title('Latent Space Visualization of VAE')\n",
    "plt.show()"
   ]
  },
  {
   "cell_type": "code",
   "execution_count": 18,
   "id": "25c4ffb7",
   "metadata": {},
   "outputs": [
    {
     "data": {
      "image/png": "[encoded data removed]",
      "text/plain": [
       "<Figure size 800x600 with 1 Axes>"
      ]
     },
     "metadata": {},
     "output_type": "display_data"
    }
   ],
   "source": [
    "colors = ['red', 'orange', 'gold', 'green', 'blue', 'indigo', 'violet', 'purple', 'pink', 'black']\n",
    "\n",
    "fig = plt.figure(figsize=(8, 6))\n",
    "\n",
    "for i in range(10):\n",
    "    points = np.column_stack((np.hstack(x_data[i]), np.hstack(y_data[i])))\n",
    "    plt.scatter(x_data[i], y_data[i], c=colors[i], label=f'{i}', alpha=0.5)\n",
    "    \n",
    "plt.xlabel('X-Axis Label')\n",
    "plt.ylabel('Y-Axis Label')\n",
    "plt.title('Scatter Plot of Reduced Data for Different Numbers')\n",
    "plt.legend()\n",
    "plt.show()\n",
    "\n",
    "# # saving the data\n",
    "# run = '2d_latent_space_convex_hull_VAE'\n",
    "# plots_folder_name = 'latent_space_images_vae'\n",
    "# plots_file_name = f'{run}.png'\n",
    "# plots_folder_path = f'latent_space/{plots_folder_name}'\n",
    "# os.makedirs(plots_folder_path, exist_ok=True)\n",
    "# plots_file_path = os.path.join(plots_folder_path, plots_file_name)\n",
    "# fig.savefig(plots_file_path)\n",
    "# plt.show()\n",
    "# print(run)"
   ]
  },
  {
   "cell_type": "code",
   "execution_count": null,
   "id": "de7a927b",
   "metadata": {},
   "outputs": [],
   "source": [
    "colors = ['red', 'orange', 'gold', 'green', 'blue', 'indigo', 'violet', 'purple', 'pink', 'black']\n",
    "\n",
    "fig = plt.figure(figsize=(8, 6))\n",
    "\n",
    "for i in range(10):  # Iterate through the two numbers\n",
    "    points = np.column_stack((np.hstack(x_data[i]), np.hstack(y_data[i])))\n",
    "#     hull = ConvexHull(points)\n",
    "#     convex_hull_vertices = points[hull.vertices]\n",
    "    plt.scatter(x_data[i], y_data[i], c=colors[i], s=5, alpha=1, marker='.', label=f'{i}')\n",
    "#     plt.plot(convex_hull_vertices[:, 0], convex_hull_vertices[:, 1], 'r--', lw=2, label='Convex Hull', c=colors[i])\n",
    "    \n",
    "plt.xlabel('X-Axis Label')\n",
    "plt.ylabel('Y-Axis Label')\n",
    "plt.title('Scatter Plot of Reduced Data for Different Numbers')\n",
    "plt.legend()\n",
    "plt.show()\n",
    "\n",
    "# # saving the data\n",
    "# run = 'convex_hull_and_scatter'\n",
    "# plots_folder_name = 'latent_space_images'\n",
    "# plots_file_name = f'{run}.png'\n",
    "# plots_folder_path = f'latent_space_VAE/{plots_folder_name}'\n",
    "# os.makedirs(plots_folder_path, exist_ok=True)\n",
    "# plots_file_path = os.path.join(plots_folder_path, plots_file_name)\n",
    "# fig.savefig(plots_file_path)\n",
    "# plt.show()\n",
    "# print(run)"
   ]
  },
  {
   "cell_type": "code",
   "execution_count": null,
   "id": "a4b8100d",
   "metadata": {},
   "outputs": [],
   "source": [
    "colors = ['red', 'orange', 'gold', 'green', 'blue', 'indigo', 'violet', 'purple', 'pink', 'black']\n",
    "\n",
    "fig, axes = plt.subplots(2, 5, figsize=(16, 6))\n",
    "\n",
    "for i in range(10): \n",
    "    row = i // 5\n",
    "    col = i % 5\n",
    "\n",
    "    axes[row, col].scatter(x_data[i], y_data[i], c=colors[i], label=f'{i}')\n",
    "    axes[row, col].set_xlabel('X-Axis Label')\n",
    "    axes[row, col].set_ylabel('Y-Axis Label')\n",
    "    axes[row, col].set_title(f'Scatter Plot of {i}')\n",
    "\n",
    "plt.tight_layout()\n",
    "plt.show()\n",
    "\n",
    "# # saving the data\n",
    "# run = '2d_latent_space_separate_scatters_VAE'\n",
    "# plots_folder_name = 'latent_space_images'\n",
    "# plots_file_name = f'{run}.png'\n",
    "# plots_folder_path = f'latent_space/{plots_folder_name}'\n",
    "# os.makedirs(plots_folder_path, exist_ok=True)\n",
    "# plots_file_path = os.path.join(plots_folder_path, plots_file_name)\n",
    "# fig.savefig(plots_file_path)\n",
    "# plt.show()\n",
    "# print(run)"
   ]
  },
  {
   "cell_type": "code",
   "execution_count": null,
   "id": "629ec2c9",
   "metadata": {
    "scrolled": false
   },
   "outputs": [],
   "source": [
    "colors = ['red', 'orange', 'gold', 'green', 'blue', 'indigo', 'violet', 'purple', 'pink', 'black']\n",
    "\n",
    "fig = plt.figure(figsize=(8, 6))\n",
    "\n",
    "for i in range(10):  # Iterate through the two numbers\n",
    "    points = np.column_stack((np.hstack(x_data[i]), np.hstack(y_data[i])))\n",
    "    hull = ConvexHull(points)\n",
    "    convex_hull_vertices = points[hull.vertices]\n",
    "    plt.scatter(x_data[i], y_data[i], c=colors[i], s=1, alpha=0.2, marker='.', label=f'{i}')\n",
    "    \n",
    "plt.xlabel('X-Axis Label')\n",
    "plt.ylabel('Y-Axis Label')\n",
    "plt.title('Scatter Plot of Reduced Data for Different Numbers')\n",
    "plt.legend()\n",
    "plt.show()"
   ]
  }
 ],
 "metadata": {
  "kernelspec": {
   "display_name": "Python 3 (ipykernel)",
   "language": "python",
   "name": "python3"
  },
  "language_info": {
   "codemirror_mode": {
    "name": "ipython",
    "version": 3
   },
   "file_extension": ".py",
   "mimetype": "text/x-python",
   "name": "python",
   "nbconvert_exporter": "python",
   "pygments_lexer": "ipython3",
   "version": "3.9.7"
  }
 },
 "nbformat": 4,
 "nbformat_minor": 5
}
