{
 "cells": [
  {
   "cell_type": "markdown",
   "id": "6dfc7578",
   "metadata": {},
   "source": [
    "# Setup"
   ]
  },
  {
   "cell_type": "code",
   "execution_count": 1,
   "id": "db1afd31",
   "metadata": {},
   "outputs": [],
   "source": [
    "import os\n",
    "os.environ['TF_CPP_MIN_LOG_LEVEL'] = '2'\n",
    "\n",
    "import numpy as np\n",
    "import matplotlib.pyplot as plt\n",
    "\n",
    "import tensorflow as tf\n",
    "from tensorflow import keras\n",
    "from tensorflow.keras import layers\n",
    "from tensorflow.keras import backend as K\n",
    "from tensorflow.keras.datasets import mnist"
   ]
  },
  {
   "cell_type": "markdown",
   "id": "2ac38b1c",
   "metadata": {},
   "source": [
    "## Structure data as needed"
   ]
  },
  {
   "cell_type": "code",
   "execution_count": 2,
   "id": "8ac21119",
   "metadata": {},
   "outputs": [],
   "source": [
    "(x_train, _), (x_test, _) = mnist.load_data()"
   ]
  },
  {
   "cell_type": "code",
   "execution_count": 3,
   "id": "5ba28dcb",
   "metadata": {},
   "outputs": [
    {
     "name": "stdout",
     "output_type": "stream",
     "text": [
      "(60000, 28, 28, 1)\n",
      "1.0\n",
      "(10000, 28, 28, 1)\n",
      "1.0\n"
     ]
    }
   ],
   "source": [
    "x_train = x_train.astype('float32') / 255.0\n",
    "x_test = x_test.astype('float32') / 255.0\n",
    "x_train = x_train.reshape((len(x_train), 28, 28, 1))\n",
    "x_test = x_test.reshape((len(x_test), 28, 28, 1))\n",
    "\n",
    "print(x_train.shape)\n",
    "print(x_train.max())\n",
    "print(x_test.shape)\n",
    "print(x_test.max())"
   ]
  },
  {
   "cell_type": "markdown",
   "id": "af887c4e",
   "metadata": {},
   "source": [
    "# Autoencoder"
   ]
  },
  {
   "cell_type": "markdown",
   "id": "05f58aea",
   "metadata": {},
   "source": [
    "### Parameters"
   ]
  },
  {
   "cell_type": "code",
   "execution_count": 4,
   "id": "246a79e4",
   "metadata": {},
   "outputs": [],
   "source": [
    "latent_dim = 10\n",
    "hidden_dim = 64\n",
    "batch_size = 16\n",
    "epochs = 15\n",
    "learning_rate = 0.0001\n",
    "\n",
    "factor = 0.1\n",
    "patience = 1\n",
    "min_lr = 0.00001\n",
    "verbose = 1"
   ]
  },
  {
   "cell_type": "code",
   "execution_count": 5,
   "id": "ab319698",
   "metadata": {},
   "outputs": [],
   "source": [
    "reduce_lr = tf.keras.callbacks.ReduceLROnPlateau(monitor='val_loss', factor=factor,\n",
    "                              patience=patience, min_lr=min_lr, verbose=verbose)"
   ]
  },
  {
   "cell_type": "markdown",
   "id": "3bca612e",
   "metadata": {},
   "source": [
    "### Encoder"
   ]
  },
  {
   "cell_type": "code",
   "execution_count": 6,
   "id": "8acb21d6",
   "metadata": {},
   "outputs": [],
   "source": [
    "encoder_inputs = keras.Input(shape=(28, 28, 1))\n",
    "x = layers.Conv2D(hidden_dim/2, 3, activation='relu', strides=2, padding='same')(encoder_inputs)\n",
    "x = layers.Conv2D(hidden_dim, 3, activation='relu', strides=2, padding='same')(x)\n",
    "x = layers.Flatten()(x)\n",
    "z_mean = layers.Dense(latent_dim, name='z_mean')(x)\n",
    "z_log_var = layers.Dense(latent_dim, name='z_log_var')(x)"
   ]
  },
  {
   "cell_type": "markdown",
   "id": "dc9a2d6c",
   "metadata": {},
   "source": [
    "### Sampling function"
   ]
  },
  {
   "cell_type": "code",
   "execution_count": 7,
   "id": "2dc95065",
   "metadata": {},
   "outputs": [],
   "source": [
    "def sampling(args):\n",
    "    z_mean, z_log_var = args\n",
    "    batch = K.shape(z_mean)[0]\n",
    "    dim = K.int_shape(z_mean)[1]\n",
    "    epsilon = K.random_normal(shape=(batch, dim))\n",
    "    return z_mean + K.exp(0.5 * z_log_var) * epsilon"
   ]
  },
  {
   "cell_type": "markdown",
   "id": "a569fa1e",
   "metadata": {},
   "source": [
    "### Reparameterization\n",
    "essential part of a variational autoencoder"
   ]
  },
  {
   "cell_type": "code",
   "execution_count": 8,
   "id": "2cf5afe4",
   "metadata": {},
   "outputs": [],
   "source": [
    "z = layers.Lambda(sampling, output_shape=(latent_dim,), name='z')([z_mean, z_log_var])"
   ]
  },
  {
   "cell_type": "markdown",
   "id": "cd7010ca",
   "metadata": {},
   "source": [
    "### Decoder"
   ]
  },
  {
   "cell_type": "code",
   "execution_count": 9,
   "id": "492fc4dc",
   "metadata": {},
   "outputs": [],
   "source": [
    "decoder_inputs = layers.Input(shape=(latent_dim,))\n",
    "x = layers.Dense(7 * 7 * hidden_dim, activation='relu')(decoder_inputs)\n",
    "x = layers.Reshape((7, 7, hidden_dim))(x)\n",
    "x = layers.Conv2DTranspose(hidden_dim, 3, activation='relu', strides=2, padding='same')(x)\n",
    "x = layers.Conv2DTranspose(hidden_dim/2, 3, activation='relu', strides=2, padding='same')(x)\n",
    "decoder_outputs = layers.Conv2DTranspose(1, 3, activation='sigmoid', padding='same')(x)"
   ]
  },
  {
   "cell_type": "markdown",
   "id": "31182361",
   "metadata": {},
   "source": [
    "### VAE Model"
   ]
  },
  {
   "cell_type": "code",
   "execution_count": 10,
   "id": "7e80bbfd",
   "metadata": {},
   "outputs": [],
   "source": [
    "encoder = keras.Model(encoder_inputs, [z_mean, z_log_var, z], name='encoder')\n",
    "decoder = keras.Model(decoder_inputs, decoder_outputs, name='decoder')\n",
    "\n",
    "vae_outputs = decoder(encoder(encoder_inputs)[2])\n",
    "vae = keras.Model(encoder_inputs, vae_outputs, name='vae')"
   ]
  },
  {
   "cell_type": "markdown",
   "id": "41dda845",
   "metadata": {},
   "source": [
    "### Loss function"
   ]
  },
  {
   "cell_type": "code",
   "execution_count": 11,
   "id": "13cec12a",
   "metadata": {
    "scrolled": true
   },
   "outputs": [],
   "source": [
    "xent_loss = keras.losses.binary_crossentropy(encoder_inputs, vae_outputs)\n",
    "xent_loss = K.sum(xent_loss, axis=[1, 2])  # Sum over all dimensions\n",
    "kl_loss = -0.5 * K.sum(1 + z_log_var - K.square(z_mean) - K.exp(z_log_var), axis=-1)\n",
    "vae_loss = K.mean(xent_loss + kl_loss)"
   ]
  },
  {
   "cell_type": "markdown",
   "id": "97833810",
   "metadata": {},
   "source": [
    "### Compile"
   ]
  },
  {
   "cell_type": "code",
   "execution_count": 12,
   "id": "b144cc33",
   "metadata": {},
   "outputs": [],
   "source": [
    "vae.add_loss(vae_loss)\n",
    "vae.compile(optimizer=tf.keras.optimizers.Adam(learning_rate=learning_rate),\n",
    "                    loss='binary_crossentropy')"
   ]
  },
  {
   "cell_type": "markdown",
   "id": "dc5faee1",
   "metadata": {},
   "source": [
    "# Training"
   ]
  },
  {
   "cell_type": "code",
   "execution_count": 13,
   "id": "458a65c4",
   "metadata": {},
   "outputs": [
    {
     "name": "stdout",
     "output_type": "stream",
     "text": [
      "Epoch 1/15\n",
      "3750/3750 [==============================] - 70s 18ms/step - loss: 167.4690 - val_loss: 124.2686 - lr: 1.0000e-04\n",
      "Epoch 2/15\n",
      "3750/3750 [==============================] - 69s 18ms/step - loss: 120.5015 - val_loss: 116.0758 - lr: 1.0000e-04\n",
      "Epoch 3/15\n",
      "3750/3750 [==============================] - 70s 19ms/step - loss: 115.3005 - val_loss: 112.7913 - lr: 1.0000e-04\n",
      "Epoch 4/15\n",
      "3750/3750 [==============================] - 69s 19ms/step - loss: 112.6945 - val_loss: 110.8228 - lr: 1.0000e-04\n",
      "Epoch 5/15\n",
      "3750/3750 [==============================] - 71s 19ms/step - loss: 111.0677 - val_loss: 109.5697 - lr: 1.0000e-04\n",
      "Epoch 6/15\n",
      "3750/3750 [==============================] - 68s 18ms/step - loss: 109.8895 - val_loss: 108.7488 - lr: 1.0000e-04\n",
      "Epoch 7/15\n",
      "3750/3750 [==============================] - 70s 19ms/step - loss: 108.9568 - val_loss: 108.0262 - lr: 1.0000e-04\n",
      "Epoch 8/15\n",
      "3750/3750 [==============================] - 73s 20ms/step - loss: 108.2471 - val_loss: 107.3710 - lr: 1.0000e-04\n",
      "Epoch 9/15\n",
      "3750/3750 [==============================] - 69s 19ms/step - loss: 107.6280 - val_loss: 106.8999 - lr: 1.0000e-04\n",
      "Epoch 10/15\n",
      "3750/3750 [==============================] - 69s 18ms/step - loss: 107.0796 - val_loss: 106.3105 - lr: 1.0000e-04\n",
      "Epoch 11/15\n",
      "3750/3750 [==============================] - 68s 18ms/step - loss: 106.6262 - val_loss: 105.9591 - lr: 1.0000e-04\n",
      "Epoch 12/15\n",
      "3750/3750 [==============================] - 68s 18ms/step - loss: 106.2504 - val_loss: 105.9139 - lr: 1.0000e-04\n",
      "Epoch 13/15\n",
      "3750/3750 [==============================] - 68s 18ms/step - loss: 105.9026 - val_loss: 105.6068 - lr: 1.0000e-04\n",
      "Epoch 14/15\n",
      "3750/3750 [==============================] - 69s 18ms/step - loss: 105.5690 - val_loss: 105.2360 - lr: 1.0000e-04\n",
      "Epoch 15/15\n",
      "3750/3750 [==============================] - 69s 18ms/step - loss: 105.2666 - val_loss: 105.0100 - lr: 1.0000e-04\n"
     ]
    }
   ],
   "source": [
    "fitting_output = vae.fit(x_train, x_train, \n",
    "                         epochs=epochs, \n",
    "                         batch_size=batch_size, \n",
    "                         validation_data=(x_test, x_test), \n",
    "                         callbacks=[reduce_lr])"
   ]
  },
  {
   "cell_type": "code",
   "execution_count": 14,
   "id": "caa4b70c",
   "metadata": {},
   "outputs": [],
   "source": [
    "training_history = fitting_output.history"
   ]
  },
  {
   "cell_type": "code",
   "execution_count": 15,
   "id": "2c9aaba0",
   "metadata": {},
   "outputs": [
    {
     "data": {
      "image/png": "[encoded data removed]",
      "text/plain": [
       "<Figure size 640x480 with 1 Axes>"
      ]
     },
     "metadata": {},
     "output_type": "display_data"
    }
   ],
   "source": [
    "# plotting the decrease in loss as the network learns\n",
    "fig_loss = plt.figure()\n",
    "ax = fig_loss.add_subplot(111)\n",
    "ax.plot(fitting_output.history['loss'], label='Training')\n",
    "ax.plot(fitting_output.history['val_loss'], label='Validation')\n",
    "ax.set_title('Decrease in Loss')\n",
    "ax.set_ylabel('Loss', fontsize=20)\n",
    "ax.set_xlabel('Epoch', fontsize=20)\n",
    "ax.legend(loc='upper right', fontsize=14)\n",
    "ax.tick_params(axis='both', which='both', labelsize=12)\n",
    "ax.set_xticks(np.arange(0, epochs, 1))\n",
    "plt.show()"
   ]
  },
  {
   "cell_type": "markdown",
   "id": "13ffbdd0",
   "metadata": {},
   "source": [
    "# Testing"
   ]
  },
  {
   "cell_type": "code",
   "execution_count": 16,
   "id": "1d6ac26f",
   "metadata": {},
   "outputs": [
    {
     "name": "stdout",
     "output_type": "stream",
     "text": [
      "313/313 [==============================] - 2s 6ms/step\n",
      "(10000, 28, 28, 1)\n"
     ]
    }
   ],
   "source": [
    "# use the test set\n",
    "predictions = vae.predict(x_test)\n",
    "print(predictions.shape)"
   ]
  },
  {
   "cell_type": "code",
   "execution_count": 24,
   "id": "eeddbfc4",
   "metadata": {},
   "outputs": [
    {
     "data": {
      "image/png": "[encoded data removed]",
      "text/plain": [
       "<Figure size 640x480 with 1 Axes>"
      ]
     },
     "metadata": {},
     "output_type": "display_data"
    }
   ],
   "source": [
    "i = 0\n",
    "fig, ax=plt.subplots()\n",
    "ax.imshow(predictions[i], cmap=plt.cm.binary)\n",
    "ax.set_xticks([])\n",
    "ax.set_yticks([])\n",
    "plt.show()"
   ]
  },
  {
   "cell_type": "code",
   "execution_count": 17,
   "id": "9da84173",
   "metadata": {},
   "outputs": [
    {
     "data": {
      "image/png": "[encoded data removed]",
      "text/plain": [
       "<Figure size 640x480 with 1 Axes>"
      ]
     },
     "metadata": {},
     "output_type": "display_data"
    },
    {
     "data": {
      "text/plain": [
       "<function matplotlib.pyplot.show(close=None, block=None)>"
      ]
     },
     "execution_count": 17,
     "metadata": {},
     "output_type": "execute_result"
    },
    {
     "data": {
      "image/png": "[encoded data removed]",
      "text/plain": [
       "<Figure size 640x480 with 1 Axes>"
      ]
     },
     "metadata": {},
     "output_type": "display_data"
    }
   ],
   "source": [
    "i = 0\n",
    "fig, ax=plt.subplots()\n",
    "ax.imshow(x_train[i], cmap=plt.cm.binary)\n",
    "ax.set_xticks([])\n",
    "ax.set_yticks([])\n",
    "plt.show()\n",
    "\n",
    "fig, ax=plt.subplots()\n",
    "ax.imshow(x_test[i], cmap=plt.cm.binary)\n",
    "ax.set_xticks([])\n",
    "ax.set_yticks([])\n",
    "plt.show"
   ]
  },
  {
   "cell_type": "markdown",
   "id": "80a973f0",
   "metadata": {},
   "source": [
    "# Generating new images"
   ]
  },
  {
   "cell_type": "code",
   "execution_count": 18,
   "id": "1221ec16",
   "metadata": {},
   "outputs": [
    {
     "name": "stdout",
     "output_type": "stream",
     "text": [
      "1/1 [==============================] - 0s 84ms/step\n"
     ]
    }
   ],
   "source": [
    "num_samples = 10\n",
    "random_latent_vectors = np.random.normal(size=(num_samples, latent_dim))\n",
    "decoded_images = decoder.predict(random_latent_vectors)"
   ]
  },
  {
   "cell_type": "markdown",
   "id": "0e1308aa",
   "metadata": {},
   "source": [
    "### Displaying the generated images"
   ]
  },
  {
   "cell_type": "code",
   "execution_count": 26,
   "id": "28e0abc3",
   "metadata": {},
   "outputs": [
    {
     "data": {
      "image/png": "[encoded data removed]",
      "text/plain": [
       "<Figure size 2000x400 with 20 Axes>"
      ]
     },
     "metadata": {},
     "output_type": "display_data"
    }
   ],
   "source": [
    "n = 10 \n",
    "fig = plt.figure(figsize=(20, 4))\n",
    "for i in range(n):\n",
    "    ax = plt.subplot(2, n, i + 1)\n",
    "    plt.imshow(x_test[i].reshape(28,28))\n",
    "    plt.gray()\n",
    "    ax.get_xaxis().set_visible(False)\n",
    "    ax.get_yaxis().set_visible(False)\n",
    "    \n",
    "    ax = plt.subplot(2, n, i + 1 + n)\n",
    "    plt.imshow(predictions[i].reshape(28, 28))\n",
    "    plt.gray()\n",
    "    ax.get_xaxis().set_visible(False)\n",
    "    ax.get_yaxis().set_visible(False)\n",
    "plt.savefig('vae_MNIST')"
   ]
  },
  {
   "cell_type": "code",
   "execution_count": 20,
   "id": "f750b03f",
   "metadata": {
    "scrolled": false
   },
   "outputs": [
    {
     "data": {
      "image/png": "[encoded data removed]",
      "text/plain": [
       "<Figure size 800x800 with 10 Axes>"
      ]
     },
     "metadata": {},
     "output_type": "display_data"
    }
   ],
   "source": [
    "fig, ax=plt.subplots(5, 2, figsize = (8, 8))\n",
    "\n",
    "for i in range(5):\n",
    "    for j in range(2):\n",
    "        ax[i,j].imshow(decoded_images[1*i+j], cmap=plt.cm.binary)\n",
    "        ax[i,j].set_xticks([])\n",
    "        ax[i,j].set_yticks([])\n",
    "plt.tight_layout()\n",
    "plt.show()\n"
   ]
  }
 ],
 "metadata": {
  "kernelspec": {
   "display_name": "Python 3 (ipykernel)",
   "language": "python",
   "name": "python3"
  },
  "language_info": {
   "codemirror_mode": {
    "name": "ipython",
    "version": 3
   },
   "file_extension": ".py",
   "mimetype": "text/x-python",
   "name": "python",
   "nbconvert_exporter": "python",
   "pygments_lexer": "ipython3",
   "version": "3.9.7"
  }
 },
 "nbformat": 4,
 "nbformat_minor": 5
}
