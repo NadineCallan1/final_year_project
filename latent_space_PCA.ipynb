{
 "cells": [
  {
   "cell_type": "markdown",
   "id": "ffb70f4c",
   "metadata": {},
   "source": [
    "# Setup"
   ]
  },
  {
   "cell_type": "code",
   "execution_count": 1,
   "id": "3b13ddd2",
   "metadata": {},
   "outputs": [],
   "source": [
    "import os\n",
    "os.environ['TF_CPP_MIN_LOG_LEVEL'] = '2'  # 0 for all logs, 2 for errors only\n",
    "import tensorflow as tf\n",
    "from tensorflow import keras\n",
    "from keras import layers, models, optimizers\n",
    "\n",
    "import numpy as np\n",
    "import matplotlib.pyplot as plt\n",
    "from sklearn.decomposition import PCA\n",
    "\n",
    "from scipy.spatial import ConvexHull\n",
    "\n",
    "from mpl_toolkits.mplot3d import Axes3D"
   ]
  },
  {
   "cell_type": "markdown",
   "id": "43f2bb3e",
   "metadata": {},
   "source": [
    "## Get data"
   ]
  },
  {
   "cell_type": "code",
   "execution_count": 2,
   "id": "76ca7f69",
   "metadata": {},
   "outputs": [],
   "source": [
    "mnist = keras.datasets.mnist"
   ]
  },
  {
   "cell_type": "code",
   "execution_count": 3,
   "id": "aee1c3c5",
   "metadata": {},
   "outputs": [],
   "source": [
    "(x_train, y_train), (x_test, y_test) = mnist.load_data()"
   ]
  },
  {
   "cell_type": "markdown",
   "id": "6cfde828",
   "metadata": {},
   "source": [
    "# Autoencoder"
   ]
  },
  {
   "cell_type": "markdown",
   "id": "c047ce3d",
   "metadata": {},
   "source": [
    "### training data"
   ]
  },
  {
   "cell_type": "code",
   "execution_count": 4,
   "id": "b6e467ee",
   "metadata": {},
   "outputs": [],
   "source": [
    "(x_train, _), (x_test, _) = mnist.load_data()"
   ]
  },
  {
   "cell_type": "code",
   "execution_count": 5,
   "id": "0625c74f",
   "metadata": {},
   "outputs": [
    {
     "name": "stdout",
     "output_type": "stream",
     "text": [
      "(60000, 784)\n",
      "1.0\n",
      "(10000, 784)\n",
      "1.0\n"
     ]
    }
   ],
   "source": [
    "x_train = x_train.astype('float32') / 255\n",
    "x_test = x_test.astype('float32') / 255\n",
    "x_train = x_train.reshape((len(x_train), np.prod(x_train.shape[1:])))\n",
    "x_test = x_test.reshape((len(x_test), np.prod(x_test.shape[1:])))\n",
    "print(x_train.shape)\n",
    "print(x_train.max())\n",
    "print(x_test.shape)\n",
    "print(x_test.max())"
   ]
  },
  {
   "cell_type": "markdown",
   "id": "a2de7ddc",
   "metadata": {},
   "source": [
    "### parameters"
   ]
  },
  {
   "cell_type": "code",
   "execution_count": 6,
   "id": "65fd63d3",
   "metadata": {},
   "outputs": [],
   "source": [
    "encoding_dim = 2\n",
    "hidden_dim = 24\n",
    "batch_size = 256\n",
    "epochs = 15\n",
    "learning_rate = 0.004\n",
    "\n",
    "factor = 0.1\n",
    "patience = 1\n",
    "min_lr = 0.00001\n",
    "verbose = 1"
   ]
  },
  {
   "cell_type": "code",
   "execution_count": 7,
   "id": "02d30b44",
   "metadata": {},
   "outputs": [],
   "source": [
    "reduce_lr = tf.keras.callbacks.ReduceLROnPlateau(monitor='val_loss', factor=factor,\n",
    "                              patience=patience, min_lr=min_lr, verbose=verbose)"
   ]
  },
  {
   "cell_type": "code",
   "execution_count": 8,
   "id": "f4ac3a4a",
   "metadata": {},
   "outputs": [],
   "source": [
    "# input\n",
    "input_img = keras.Input(shape=(784,))\n",
    "\n",
    "# encoder\n",
    "encoded = layers.Dense(hidden_dim, activation='relu')(input_img)\n",
    "encoded1 = layers.Dense(hidden_dim, activation='relu')(encoded)\n",
    "encoded2 = layers.Dense(hidden_dim, activation='relu')(encoded1)\n",
    "\n",
    "# bottleneck\n",
    "bottleneck = layers.Dense(encoding_dim, activation='relu')(encoded2)\n",
    "\n",
    "# decoder\n",
    "decoded = layers.Dense(hidden_dim, activation='relu')(bottleneck)\n",
    "decoded1 = layers.Dense(hidden_dim, activation='relu')(decoded)\n",
    "decoded2 = layers.Dense(hidden_dim, activation='relu')(decoded1)\n",
    "\n",
    "#output\n",
    "output_img = layers.Dense(784, activation='sigmoid')(decoded2)\n",
    "\n",
    "autoencoder = keras.Model(input_img, output_img)\n",
    "encoder = keras.Model(input_img, bottleneck)\n",
    "encoded_input = keras.Input(shape=(encoding_dim,))\n",
    "decoder_input = keras.Input(shape=(encoding_dim,))\n",
    "decoder = autoencoder.layers[-4](decoder_input)\n",
    "decoder = autoencoder.layers[-3](decoder)\n",
    "decoder = autoencoder.layers[-2](decoder)\n",
    "decoder = autoencoder.layers[-1](decoder)\n",
    "decoder_model = keras.Model(decoder_input, decoder)\n",
    "autoencoder.compile(optimizer=tf.keras.optimizers.Adam(learning_rate=learning_rate),\n",
    "                    loss='binary_crossentropy')"
   ]
  },
  {
   "cell_type": "code",
   "execution_count": 9,
   "id": "de3cf9c8",
   "metadata": {
    "scrolled": true
   },
   "outputs": [
    {
     "name": "stdout",
     "output_type": "stream",
     "text": [
      "Epoch 1/15\n",
      "235/235 [==============================] - 2s 5ms/step - loss: 0.3383 - val_loss: 0.2628 - lr: 0.0040\n",
      "Epoch 2/15\n",
      "232/235 [============================>.] - ETA: 0s - loss: 0.2631\n",
      "Epoch 2: ReduceLROnPlateau reducing learning rate to 0.0004000000189989805.\n",
      "235/235 [==============================] - 1s 6ms/step - loss: 0.2630 - val_loss: 0.2627 - lr: 0.0040\n",
      "Epoch 3/15\n",
      "235/235 [==============================] - 1s 4ms/step - loss: 0.2628 - val_loss: 0.2625 - lr: 4.0000e-04\n",
      "Epoch 4/15\n",
      "229/235 [============================>.] - ETA: 0s - loss: 0.2629\n",
      "Epoch 4: ReduceLROnPlateau reducing learning rate to 4.0000001899898055e-05.\n",
      "235/235 [==============================] - 1s 4ms/step - loss: 0.2628 - val_loss: 0.2625 - lr: 4.0000e-04\n",
      "Epoch 5/15\n",
      "229/235 [============================>.] - ETA: 0s - loss: 0.2628\n",
      "Epoch 5: ReduceLROnPlateau reducing learning rate to 1e-05.\n",
      "235/235 [==============================] - 1s 6ms/step - loss: 0.2628 - val_loss: 0.2625 - lr: 4.0000e-05\n",
      "Epoch 6/15\n",
      "235/235 [==============================] - 1s 6ms/step - loss: 0.2628 - val_loss: 0.2625 - lr: 1.0000e-05\n",
      "Epoch 7/15\n",
      "235/235 [==============================] - 2s 7ms/step - loss: 0.2628 - val_loss: 0.2625 - lr: 1.0000e-05\n",
      "Epoch 8/15\n",
      "235/235 [==============================] - 2s 7ms/step - loss: 0.2628 - val_loss: 0.2625 - lr: 1.0000e-05\n",
      "Epoch 9/15\n",
      "235/235 [==============================] - 2s 8ms/step - loss: 0.2628 - val_loss: 0.2625 - lr: 1.0000e-05\n",
      "Epoch 10/15\n",
      "235/235 [==============================] - 2s 8ms/step - loss: 0.2628 - val_loss: 0.2625 - lr: 1.0000e-05\n",
      "Epoch 11/15\n",
      "235/235 [==============================] - 2s 7ms/step - loss: 0.2628 - val_loss: 0.2625 - lr: 1.0000e-05\n",
      "Epoch 12/15\n",
      "235/235 [==============================] - 2s 7ms/step - loss: 0.2628 - val_loss: 0.2625 - lr: 1.0000e-05\n",
      "Epoch 13/15\n",
      "235/235 [==============================] - 2s 7ms/step - loss: 0.2628 - val_loss: 0.2625 - lr: 1.0000e-05\n",
      "Epoch 14/15\n",
      "235/235 [==============================] - 2s 7ms/step - loss: 0.2628 - val_loss: 0.2625 - lr: 1.0000e-05\n",
      "Epoch 15/15\n",
      "235/235 [==============================] - 2s 7ms/step - loss: 0.2628 - val_loss: 0.2625 - lr: 1.0000e-05\n"
     ]
    }
   ],
   "source": [
    "fitting_output = autoencoder.fit(x_train, x_train, \n",
    "                                 epochs=epochs,\n",
    "                                 batch_size=batch_size,\n",
    "                                 shuffle=True,\n",
    "                                 validation_data=(x_test, x_test),\n",
    "                                 callbacks=[reduce_lr])"
   ]
  },
  {
   "cell_type": "code",
   "execution_count": 10,
   "id": "52f1c119",
   "metadata": {},
   "outputs": [],
   "source": [
    "training_history = fitting_output.history"
   ]
  },
  {
   "cell_type": "code",
   "execution_count": 11,
   "id": "0cfeaa14",
   "metadata": {},
   "outputs": [
    {
     "data": {
      "image/png": "[encoded data removed]",
      "text/plain": [
       "<Figure size 640x480 with 1 Axes>"
      ]
     },
     "metadata": {},
     "output_type": "display_data"
    }
   ],
   "source": [
    "# plotting the decrease in loss as the network learns\n",
    "fig_loss = plt.figure()\n",
    "ax = fig_loss.add_subplot(111)\n",
    "ax.plot(fitting_output.history['loss'], label='Training')\n",
    "ax.plot(fitting_output.history['val_loss'], label='Validation')\n",
    "ax.set_title('Decrease in Loss')\n",
    "ax.set_ylabel('Loss', fontsize=20)\n",
    "ax.set_xlabel('Epoch', fontsize=20)\n",
    "ax.legend(loc='upper right', fontsize=14)\n",
    "ax.tick_params(axis='both', which='both', labelsize=12)\n",
    "ax.set_xticks(np.arange(0, epochs, 1))\n",
    "ax.set_ylim(0, 0.3)\n",
    "plt.show()"
   ]
  },
  {
   "cell_type": "markdown",
   "id": "725170b8",
   "metadata": {},
   "source": [
    "# Plotting the latent space"
   ]
  },
  {
   "cell_type": "markdown",
   "id": "53117790",
   "metadata": {},
   "source": [
    "2D latent space"
   ]
  },
  {
   "cell_type": "code",
   "execution_count": 12,
   "id": "7b384e2c",
   "metadata": {},
   "outputs": [
    {
     "name": "stdout",
     "output_type": "stream",
     "text": [
      "186/186 [==============================] - 1s 2ms/step\n",
      "211/211 [==============================] - 1s 2ms/step\n",
      "187/187 [==============================] - 0s 2ms/step\n",
      "192/192 [==============================] - 0s 2ms/step\n",
      "183/183 [==============================] - 1s 3ms/step\n",
      "170/170 [==============================] - 0s 2ms/step\n",
      "185/185 [==============================] - 0s 2ms/step\n",
      "196/196 [==============================] - 1s 3ms/step\n",
      "183/183 [==============================] - 0s 3ms/step\n",
      "186/186 [==============================] - 0s 2ms/step\n"
     ]
    }
   ],
   "source": [
    "x_data = []\n",
    "y_data = []\n",
    "\n",
    "for number in range(10):\n",
    "    images = np.load(f'./split_by_number/{number}_images.npy')\n",
    "    images_reshaped = images.reshape(-1, 28 * 28)\n",
    "\n",
    "    encoded_imgs = encoder.predict(images_reshaped)\n",
    "\n",
    "    x_data.append(encoded_imgs[:, 0])\n",
    "    y_data.append(encoded_imgs[:, 1])"
   ]
  },
  {
   "cell_type": "markdown",
   "id": "341ad5ff",
   "metadata": {},
   "source": [
    "3D latent space "
   ]
  },
  {
   "cell_type": "code",
   "execution_count": null,
   "id": "cc35b3cf",
   "metadata": {},
   "outputs": [],
   "source": [
    "# x_data = []\n",
    "# y_data = []\n",
    "# z_data = []\n",
    "\n",
    "# for number in range(10):\n",
    "#     images = np.load(f'./split_by_number/{number}_images.npy')\n",
    "#     images_reshaped = images.reshape(-1, 28 * 28)\n",
    "\n",
    "#     encoded_imgs = encoder.predict(images_reshaped)\n",
    "\n",
    "#     x_data.append(encoded_imgs[:, 0])\n",
    "#     y_data.append(encoded_imgs[:, 1])\n",
    "#     z_data.append(encoded_imgs[:, 2])"
   ]
  },
  {
   "cell_type": "markdown",
   "id": "736995a2",
   "metadata": {},
   "source": [
    "8 pca 2"
   ]
  },
  {
   "cell_type": "code",
   "execution_count": null,
   "id": "d4e657e1",
   "metadata": {},
   "outputs": [],
   "source": [
    "n_components = 2\n",
    "\n",
    "x_data = []\n",
    "y_data = []\n",
    "\n",
    "for number in range(10):\n",
    "    images = np.load(f'./split_by_number/{number}_images.npy')\n",
    "    images_reshaped = images.reshape(-1, 28 * 28)\n",
    "\n",
    "    encoded_imgs = encoder.predict(images_reshaped)\n",
    "\n",
    "    pca = PCA(n_components=n_components)\n",
    "    pca.fit(encoded_imgs)\n",
    "    reduced_data = pca.transform(encoded_imgs)\n",
    "\n",
    "    x_data.append(reduced_data[:, 0])\n",
    "    y_data.append(reduced_data[:, 1])"
   ]
  },
  {
   "cell_type": "markdown",
   "id": "b0bd5161",
   "metadata": {},
   "source": [
    "## Plot of all images"
   ]
  },
  {
   "cell_type": "markdown",
   "id": "0d00a061",
   "metadata": {},
   "source": [
    "8 pca 2"
   ]
  },
  {
   "cell_type": "code",
   "execution_count": 17,
   "id": "f31cef3b",
   "metadata": {
    "scrolled": false
   },
   "outputs": [
    {
     "data": {
      "image/png": "[encoded data removed]",
      "text/plain": [
       "<Figure size 800x600 with 1 Axes>"
      ]
     },
     "metadata": {},
     "output_type": "display_data"
    }
   ],
   "source": [
    "colors = ['red', 'orange', 'gold', 'green', 'blue', 'indigo', 'violet', 'purple', 'pink', 'black']\n",
    "\n",
    "fig = plt.figure(figsize=(8, 6))\n",
    "\n",
    "for i in range(10):  # Iterate through the two numbers\n",
    "    points = np.column_stack((np.hstack(x_data[i]), np.hstack(y_data[i])))\n",
    "#     hull = ConvexHull(points)\n",
    "#     convex_hull_vertices = points[hull.vertices]\n",
    "    plt.scatter(x_data[i], y_data[i], c=colors[i], s=1, alpha=0.2, marker='.', label=f'{i}')\n",
    "#     plt.plot(convex_hull_vertices[:, 0], convex_hull_vertices[:, 1], 'r--', lw=2, label='Convex Hull', c=colors[i])\n",
    "    \n",
    "plt.xlabel('X-Axis Label')\n",
    "plt.ylabel('Y-Axis Label')\n",
    "plt.title('Scatter Plot of Reduced Data for Different Numbers')\n",
    "plt.legend()\n",
    "plt.show()\n",
    "\n",
    "# # saving the data\n",
    "# run = '8_pca_2_convex_hull_and_scatter'\n",
    "# plots_folder_name = 'latent_space_images'\n",
    "# plots_file_name = f'{run}.png'\n",
    "# plots_folder_path = f'latent_space/{plots_folder_name}'\n",
    "# os.makedirs(plots_folder_path, exist_ok=True)\n",
    "# plots_file_path = os.path.join(plots_folder_path, plots_file_name)\n",
    "# fig.savefig(plots_file_path)\n",
    "# plt.show()\n",
    "# print(run)"
   ]
  },
  {
   "cell_type": "markdown",
   "id": "2ef3a252",
   "metadata": {},
   "source": [
    "from the graph above it is clear that the images are not clustered by number in the latent space of the autoencoder"
   ]
  },
  {
   "cell_type": "code",
   "execution_count": null,
   "id": "1f2cbf46",
   "metadata": {
    "scrolled": false
   },
   "outputs": [],
   "source": [
    "colors = ['red', 'orange', 'gold', 'green', 'blue', 'indigo', 'violet', 'purple', 'pink', 'black']\n",
    "\n",
    "fig, axes = plt.subplots(2, 5, figsize=(16, 6))\n",
    "\n",
    "for i in range(10): \n",
    "    row = i // 5\n",
    "    col = i % 5\n",
    "\n",
    "    axes[row, col].scatter(x_data[i], y_data[i], c=colors[i], s=1, alpha=0.2, marker='.', label=f'{i}')\n",
    "    axes[row, col].set_xlabel('X-Axis Label')\n",
    "    axes[row, col].set_ylabel('Y-Axis Label')\n",
    "    axes[row, col].set_title(f'Scatter Plot of {i}')\n",
    "    axes[row, col].legend()\n",
    "\n",
    "plt.tight_layout()\n",
    "plt.show()\n",
    "\n",
    "# # saving the data\n",
    "# run = '8_pca_2_separate_scatters'\n",
    "# plots_folder_name = 'latent_space_images'\n",
    "# plots_file_name = f'{run}.png'\n",
    "# plots_folder_path = f'latent_space/{plots_folder_name}'\n",
    "# os.makedirs(plots_folder_path, exist_ok=True)\n",
    "# plots_file_path = os.path.join(plots_folder_path, plots_file_name)\n",
    "# fig.savefig(plots_file_path)\n",
    "# plt.show()\n",
    "# print(run)"
   ]
  },
  {
   "cell_type": "markdown",
   "id": "a086cebd",
   "metadata": {},
   "source": [
    "2D latent space"
   ]
  },
  {
   "cell_type": "code",
   "execution_count": 14,
   "id": "25c4ffb7",
   "metadata": {},
   "outputs": [
    {
     "data": {
      "image/png": "[encoded data removed]",
      "text/plain": [
       "<Figure size 800x600 with 1 Axes>"
      ]
     },
     "metadata": {},
     "output_type": "display_data"
    },
    {
     "name": "stdout",
     "output_type": "stream",
     "text": [
      "2d_latent_space_convex_hull\n"
     ]
    }
   ],
   "source": [
    "colors = ['red', 'orange', 'gold', 'green', 'blue', 'indigo', 'violet', 'purple', 'pink', 'black']\n",
    "\n",
    "fig = plt.figure(figsize=(8, 6))\n",
    "\n",
    "for i in range(10):  # Iterate through the two numbers\n",
    "    points = np.column_stack((np.hstack(x_data[i]), np.hstack(y_data[i])))\n",
    "#     hull = ConvexHull(points)\n",
    "#     convex_hull_vertices = points[hull.vertices]\n",
    "    plt.scatter(x_data[i], y_data[i], c=colors[i], s=1, alpha=0.2, marker='.', label=f'{i}')\n",
    "    #plt.plot(convex_hull_vertices[:, 0], convex_hull_vertices[:, 1], 'r--', lw=2, label='Convex Hull', c=colors[i])\n",
    "    \n",
    "plt.xlabel('X-Axis Label')\n",
    "plt.ylabel('Y-Axis Label')\n",
    "plt.title('Scatter Plot of Reduced Data for Different Numbers')\n",
    "plt.legend()\n",
    "plt.show()\n",
    "\n",
    "#saving the data\n",
    "run = '2d_latent_space_convex_hull'\n",
    "plots_folder_name = 'latent_space_images'\n",
    "plots_file_name = f'{run}.png'\n",
    "plots_folder_path = f'latent_space/{plots_folder_name}'\n",
    "os.makedirs(plots_folder_path, exist_ok=True)\n",
    "plots_file_path = os.path.join(plots_folder_path, plots_file_name)\n",
    "fig.savefig(plots_file_path)\n",
    "plt.show()\n",
    "print(run)"
   ]
  },
  {
   "cell_type": "code",
   "execution_count": null,
   "id": "a4b8100d",
   "metadata": {},
   "outputs": [],
   "source": [
    "# colors = ['red', 'orange', 'gold', 'green', 'blue', 'indigo', 'violet', 'purple', 'pink', 'black']\n",
    "\n",
    "# fig, axes = plt.subplots(2, 5, figsize=(16, 6))\n",
    "\n",
    "# for i in range(10): \n",
    "#     row = i // 5\n",
    "#     col = i % 5\n",
    "\n",
    "#     axes[row, col].scatter(x_data[i], y_data[i], c=colors[i], s=1, alpha=0.2, marker='.', label=f'{i}')\n",
    "#     axes[row, col].set_xlabel('X-Axis Label')\n",
    "#     axes[row, col].set_ylabel('Y-Axis Label')\n",
    "#     axes[row, col].set_title(f'Scatter Plot of {i}')\n",
    "\n",
    "# plt.tight_layout()\n",
    "# plt.show()\n",
    "\n",
    "# saving the data\n",
    "# run = '2d_latent_space_separate_scatters'\n",
    "# plots_folder_name = 'latent_space_images'\n",
    "# plots_file_name = f'{run}.png'\n",
    "# plots_folder_path = f'latent_space/{plots_folder_name}'\n",
    "# os.makedirs(plots_folder_path, exist_ok=True)\n",
    "# plots_file_path = os.path.join(plots_folder_path, plots_file_name)\n",
    "# fig.savefig(plots_file_path)\n",
    "# plt.show()\n",
    "# print(run)"
   ]
  },
  {
   "cell_type": "markdown",
   "id": "6eea3eee",
   "metadata": {},
   "source": [
    "3D latent space"
   ]
  },
  {
   "cell_type": "code",
   "execution_count": null,
   "id": "4a938048",
   "metadata": {},
   "outputs": [],
   "source": [
    "# colors = ['red', 'orange', 'gold', 'green', 'blue', 'indigo', 'violet', 'purple', 'pink', 'black']\n",
    "\n",
    "# fig = plt.figure(figsize=(8, 6))\n",
    "# ax = fig.add_subplot(111, projection='3d')  # Create a 3D subplot\n",
    "\n",
    "# for i in range(10):\n",
    "#     ax.scatter(x_data[i], y_data[i], z_data[i], c=colors[i], s=1, alpha=0.2, marker='.', label=f'{i}')\n",
    "\n",
    "# ax.set_xlabel('X-Axis Label')\n",
    "# ax.set_ylabel('Y-Axis Label')\n",
    "# ax.set_zlabel('Z-Axis Label')\n",
    "# ax.set_title('3D Scatter Plot of Reduced Data for Different Numbers')\n",
    "# ax.legend()\n",
    "# plt.show()\n",
    "\n",
    "# # saving the data\n",
    "# run = '3d_latent_space_all_scatters'\n",
    "# plots_folder_name = 'latent_space_images'\n",
    "# plots_file_name = f'{run}.png'\n",
    "# plots_folder_path = f'latent_space/{plots_folder_name}'\n",
    "# os.makedirs(plots_folder_path, exist_ok=True)\n",
    "# plots_file_path = os.path.join(plots_folder_path, plots_file_name)\n",
    "# fig.savefig(plots_file_path)\n",
    "# plt.show()\n",
    "# print(run)"
   ]
  },
  {
   "cell_type": "code",
   "execution_count": null,
   "id": "e27b444e",
   "metadata": {},
   "outputs": [],
   "source": [
    "colors = ['red', 'orange', 'gold', 'green', 'blue', 'indigo', 'violet', 'purple', 'pink', 'black']\n",
    "\n",
    "# fig = plt.figure(figsize=(16, 6))\n",
    "# fig.suptitle('Grid of 3D Scatter Plots')\n",
    "\n",
    "# for i in range(10):\n",
    "#     ax = fig.add_subplot(2, 5, i + 1, projection='3d')  # Create a 3D subplot\n",
    "\n",
    "#     ax.scatter(x_data[i], y_data[i], z_data[i], c=colors[i], s=1, alpha=0.2, marker='.', label=f'{i}')\n",
    "#     ax.set_xlabel('X-Axis Label')\n",
    "#     ax.set_ylabel('Y-Axis Label')\n",
    "#     ax.set_zlabel('Z-Axis Label')\n",
    "#     ax.set_title(f'Scatter Plot of {i}')\n",
    "\n",
    "# plt.tight_layout()\n",
    "# plt.show()\n",
    "\n",
    "# # saving the data\n",
    "# run = '3d_latent_space_separate_scatters'\n",
    "# plots_folder_name = 'latent_space_images'\n",
    "# plots_file_name = f'{run}.png'\n",
    "# plots_folder_path = f'latent_space/{plots_folder_name}'\n",
    "# os.makedirs(plots_folder_path, exist_ok=True)\n",
    "# plots_file_path = os.path.join(plots_folder_path, plots_file_name)\n",
    "# fig.savefig(plots_file_path)\n",
    "# plt.show()\n",
    "# print(run)"
   ]
  }
 ],
 "metadata": {
  "kernelspec": {
   "display_name": "Python 3 (ipykernel)",
   "language": "python",
   "name": "python3"
  },
  "language_info": {
   "codemirror_mode": {
    "name": "ipython",
    "version": 3
   },
   "file_extension": ".py",
   "mimetype": "text/x-python",
   "name": "python",
   "nbconvert_exporter": "python",
   "pygments_lexer": "ipython3",
   "version": "3.9.7"
  }
 },
 "nbformat": 4,
 "nbformat_minor": 5
}
